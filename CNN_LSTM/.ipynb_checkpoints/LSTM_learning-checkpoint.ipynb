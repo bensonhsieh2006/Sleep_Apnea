{
 "cells": [
  {
   "cell_type": "code",
   "execution_count": 1,
   "metadata": {},
   "outputs": [],
   "source": [
    "import numpy as np\n",
    "import pandas as pd\n",
    "import matplotlib.pyplot as plt\n",
    "import os\n",
    "import cv2\n",
    "import time\n",
    "import sklearn\n",
    "from tqdm import tqdm"
   ]
  },
  {
   "cell_type": "code",
   "execution_count": 2,
   "metadata": {},
   "outputs": [],
   "source": [
    "def my_processing(dataset, outsize, pre_type='his'):\n",
    "    \n",
    "    data = []\n",
    "    \n",
    "    for timestep in tqdm(dataset):                                        #image to crop\n",
    "        seg = []\n",
    "        for img in timestep:\n",
    "\n",
    "            rect_mask = np.zeros(img.shape[:2], dtype=\"uint8\")           #black mask with shape of spectrogram \n",
    "            cv2.rectangle(rect_mask,(79,57),(576,427),255,-1)              #fill area we want to keep with white\n",
    "\n",
    "            masked_img = cv2.bitwise_and(img, img, mask=rect_mask)   #apply\n",
    "\n",
    "\n",
    "            output_img = masked_img[57:427,79:576]                    #resize image to fit in model\n",
    "            output_img = cv2.resize(output_img, (outsize,outsize))\n",
    "\n",
    "            if pre_type == 'his':\n",
    "                output_img = pre_his(output_img)\n",
    "                \n",
    "            output_img = cv2.normalize(output_img, None, 0, 1, norm_type=cv2.NORM_MINMAX, dtype=cv2.CV_32F)\n",
    "            seg.append(output_img)\n",
    "            \n",
    "        data.append(seg)   \n",
    "    \n",
    "    return np.array(data)\n",
    "\n",
    "\n",
    "def pre_his(img):\n",
    "    yuv = cv2.cvtColor(img, cv2.COLOR_BGR2YUV)\n",
    "    y, u, v = cv2.split(yuv)\n",
    "    y = cv2.equalizeHist(y)\n",
    "    yuv = cv2.merge([y, u, v])\n",
    "    his_img = cv2.cvtColor(yuv, cv2.COLOR_YUV2BGR)\n",
    "    return his_img"
   ]
  },
  {
   "cell_type": "code",
   "execution_count": 3,
   "metadata": {},
   "outputs": [
    {
     "name": "stdout",
     "output_type": "stream",
     "text": [
      "156\n",
      "156\n"
     ]
    }
   ],
   "source": [
    "label_th = 0.1\n",
    "seg_time = 30\n",
    "info_csv = pd.read_csv(f'label_{seg_time}s_{int(label_th*100)}.csv')\n",
    "num_list = [x for x in range(30,69)]\n",
    "train_data = []\n",
    "train_label = []\n",
    "ids = [\"00000711-100839\", \"00000781-100816\", \"00001096-100779\", \"00000782-100816\"]\n",
    "\n",
    "for ids in range(len(ids)):\n",
    "    for num in num_list:\n",
    "        seg_data = []\n",
    "        seg_label = []\n",
    "        for x in range(10):\n",
    "            seq = ids*390+(num-30)*10+x\n",
    "            file = info_csv[\"filename\"][seq]\n",
    "            image = cv2.imread(f\"./Segments_{seg_time}s/{file}.png\")\n",
    "            image = cv2.cvtColor(image, cv2.COLOR_BGR2RGB)\n",
    "            result = cv2.normalize(image, None, 0, 1, norm_type=cv2.NORM_MINMAX, dtype=cv2.CV_32F)\n",
    "            seg_data.append(result)\n",
    "            seg_label.append(info_csv[\"label\"][seq])\n",
    "        train_data.append(seg_data)\n",
    "        train_label.append(seg_label)\n",
    "    \n",
    "print(len(train_data))\n",
    "print(len(train_label))"
   ]
  },
  {
   "cell_type": "code",
   "execution_count": 4,
   "metadata": {},
   "outputs": [],
   "source": [
    "# rect_mask = np.zeros(train_data[0].shape[:2], dtype=\"uint8\")           #black mask with shape of spectrogram \n",
    "# cv2.rectangle(rect_mask,(79,57),(576,427),255,-1)              #fill area that we want to keep with white\n",
    "\n",
    "# masked_image = cv2.bitwise_and(train_data[0], train_data[0], mask=rect_mask)   #apply\n",
    "# output_image = masked_image[57:427,79:576]                     #resize image to fit in model\n",
    "# output_image = cv2.resize(output_image, (456,456))\n",
    "# plt.imshow(output_image)"
   ]
  },
  {
   "cell_type": "code",
   "execution_count": 5,
   "metadata": {
    "scrolled": true
   },
   "outputs": [
    {
     "name": "stderr",
     "output_type": "stream",
     "text": [
      "  0%|                                                   | 0/156 [00:00<?, ?it/s]\n"
     ]
    },
    {
     "ename": "error",
     "evalue": "OpenCV(4.6.0) /io/opencv/modules/imgproc/src/histogram.cpp:3440: error: (-215:Assertion failed) _src.type() == CV_8UC1 in function 'equalizeHist'\n",
     "output_type": "error",
     "traceback": [
      "\u001b[0;31m---------------------------------------------------------------------------\u001b[0m",
      "\u001b[0;31merror\u001b[0m                                     Traceback (most recent call last)",
      "Cell \u001b[0;32mIn [5], line 1\u001b[0m\n\u001b[0;32m----> 1\u001b[0m pre_data \u001b[38;5;241m=\u001b[39m \u001b[43mmy_processing\u001b[49m\u001b[43m(\u001b[49m\u001b[43mdataset\u001b[49m\u001b[43m \u001b[49m\u001b[38;5;241;43m=\u001b[39;49m\u001b[43m \u001b[49m\u001b[43mtrain_data\u001b[49m\u001b[43m,\u001b[49m\u001b[43m \u001b[49m\u001b[43moutsize\u001b[49m\u001b[38;5;241;43m=\u001b[39;49m\u001b[38;5;241;43m448\u001b[39;49m\u001b[43m,\u001b[49m\u001b[43m \u001b[49m\u001b[43mpre_type\u001b[49m\u001b[38;5;241;43m=\u001b[39;49m\u001b[38;5;124;43m\"\u001b[39;49m\u001b[38;5;124;43mhis\u001b[39;49m\u001b[38;5;124;43m\"\u001b[39;49m\u001b[43m)\u001b[49m\n\u001b[1;32m      2\u001b[0m pre_data, train_label \u001b[38;5;241m=\u001b[39m sklearn\u001b[38;5;241m.\u001b[39mutils\u001b[38;5;241m.\u001b[39mshuffle(pre_data, train_label)\n\u001b[1;32m      4\u001b[0m X_train \u001b[38;5;241m=\u001b[39m np\u001b[38;5;241m.\u001b[39marray(np\u001b[38;5;241m.\u001b[39mconcatenate((pre_data[:\u001b[38;5;241m45\u001b[39m], pre_data[\u001b[38;5;241m75\u001b[39m:]), axis\u001b[38;5;241m=\u001b[39m\u001b[38;5;241m0\u001b[39m))\n",
      "Cell \u001b[0;32mIn [2], line 19\u001b[0m, in \u001b[0;36mmy_processing\u001b[0;34m(dataset, outsize, pre_type)\u001b[0m\n\u001b[1;32m     16\u001b[0m output_img \u001b[38;5;241m=\u001b[39m cv2\u001b[38;5;241m.\u001b[39mresize(output_img, (outsize,outsize))\n\u001b[1;32m     18\u001b[0m \u001b[38;5;28;01mif\u001b[39;00m pre_type \u001b[38;5;241m==\u001b[39m \u001b[38;5;124m'\u001b[39m\u001b[38;5;124mhis\u001b[39m\u001b[38;5;124m'\u001b[39m:\n\u001b[0;32m---> 19\u001b[0m     output_img \u001b[38;5;241m=\u001b[39m \u001b[43mpre_his\u001b[49m\u001b[43m(\u001b[49m\u001b[43moutput_img\u001b[49m\u001b[43m)\u001b[49m\n\u001b[1;32m     21\u001b[0m output_img \u001b[38;5;241m=\u001b[39m cv2\u001b[38;5;241m.\u001b[39mnormalize(output_img, \u001b[38;5;28;01mNone\u001b[39;00m, \u001b[38;5;241m0\u001b[39m, \u001b[38;5;241m1\u001b[39m, norm_type\u001b[38;5;241m=\u001b[39mcv2\u001b[38;5;241m.\u001b[39mNORM_MINMAX, dtype\u001b[38;5;241m=\u001b[39mcv2\u001b[38;5;241m.\u001b[39mCV_32F)\n\u001b[1;32m     22\u001b[0m seg\u001b[38;5;241m.\u001b[39mappend(output_img)\n",
      "Cell \u001b[0;32mIn [2], line 32\u001b[0m, in \u001b[0;36mpre_his\u001b[0;34m(img)\u001b[0m\n\u001b[1;32m     30\u001b[0m yuv \u001b[38;5;241m=\u001b[39m cv2\u001b[38;5;241m.\u001b[39mcvtColor(img, cv2\u001b[38;5;241m.\u001b[39mCOLOR_BGR2YUV)\n\u001b[1;32m     31\u001b[0m y, u, v \u001b[38;5;241m=\u001b[39m cv2\u001b[38;5;241m.\u001b[39msplit(yuv)\n\u001b[0;32m---> 32\u001b[0m y \u001b[38;5;241m=\u001b[39m \u001b[43mcv2\u001b[49m\u001b[38;5;241;43m.\u001b[39;49m\u001b[43mequalizeHist\u001b[49m\u001b[43m(\u001b[49m\u001b[43my\u001b[49m\u001b[43m)\u001b[49m\n\u001b[1;32m     33\u001b[0m yuv \u001b[38;5;241m=\u001b[39m cv2\u001b[38;5;241m.\u001b[39mmerge([y, u, v])\n\u001b[1;32m     34\u001b[0m his_img \u001b[38;5;241m=\u001b[39m cv2\u001b[38;5;241m.\u001b[39mcvtColor(yuv, cv2\u001b[38;5;241m.\u001b[39mCOLOR_YUV2BGR)\n",
      "\u001b[0;31merror\u001b[0m: OpenCV(4.6.0) /io/opencv/modules/imgproc/src/histogram.cpp:3440: error: (-215:Assertion failed) _src.type() == CV_8UC1 in function 'equalizeHist'\n"
     ]
    }
   ],
   "source": [
    "pre_data = my_processing(dataset = train_data, outsize=448, pre_type=\"his\")\n",
    "pre_data, train_label = sklearn.utils.shuffle(pre_data, train_label)\n",
    "\n",
    "X_train = np.array(np.concatenate((pre_data[:45], pre_data[75:]), axis=0))\n",
    "Y_train = np.array(np.eye(2)[np.concatenate((train_label[:45], train_label[75:]), axis=0)])\n",
    "X_test = np.array(pre_data[45:60])\n",
    "Y_test = np.array(np.eye(2)[train_label[45:60]])\n",
    "X_valid = np.array(pre_data[60:75])\n",
    "Y_valid = np.array(np.eye(2)[train_label[60:75]])\n",
    "\n",
    "print(X_train.shape)\n",
    "print(Y_train.shape)\n",
    "print(X_test.shape)\n",
    "print(Y_test.shape)\n",
    "print(X_valid.shape)\n",
    "print(Y_valid.shape)\n",
    "del train_data\n",
    "del pre_data\n",
    "\n",
    "#:45:60:75:"
   ]
  },
  {
   "cell_type": "code",
   "execution_count": null,
   "metadata": {},
   "outputs": [],
   "source": [
    "# plt.figure(figsize=(20,10))\n",
    "# for i in range(10):\n",
    "#     ax = plt.subplot(2, 5, i+1)                                    \n",
    "#     plt.title(\"class : \" + str(Y_train[0][i]), \n",
    "#                fontsize=18)                                        \n",
    "#     plt.xticks([])                                                \n",
    "#     ax.imshow(X_train[0][i])    "
   ]
  },
  {
   "cell_type": "code",
   "execution_count": null,
   "metadata": {},
   "outputs": [],
   "source": [
    "# import tensorflow as tf\n",
    "# from tensorflow.core.protobuf import rewriter_config_pb2\n",
    "# from tensorflow.keras.backend import set_session\n",
    "# tf.keras.backend.clear_session()  # For easy reset of notebook state.\n",
    "\n",
    "# config_proto = tf.ConfigProto()\n",
    "# off = rewriter_config_pb2.RewriterConfig.OFF\n",
    "# config_proto.graph_options.rewrite_options.arithmetic_optimization = off\n",
    "# session = tf.Session(config=config_proto)\n",
    "# set_session(session)"
   ]
  },
  {
   "cell_type": "code",
   "execution_count": null,
   "metadata": {},
   "outputs": [],
   "source": [
    "from tensorflow.keras.layers import TimeDistributed, LSTM, Dense, Conv2D, MaxPool2D, Flatten, Dropout, Input, BatchNormalization\n",
    "from tensorflow.keras.optimizers import Adam\n",
    "from tensorflow.keras.callbacks import EarlyStopping\n",
    "from tensorflow.keras import Model"
   ]
  },
  {
   "cell_type": "code",
   "execution_count": null,
   "metadata": {},
   "outputs": [],
   "source": [
    "def my_model(timesteps, height, width, color_channels, num_classes):\n",
    "    \n",
    "    input_batch = Input(shape = (timesteps, height, width, color_channels))\n",
    "    \n",
    "    \n",
    "    cnn_network = TimeDistributed(Conv2D(64, (3,3), padding='same', activation='relu'))(input_batch)\n",
    "    cnn_network = TimeDistributed(Conv2D(64, (3,3), padding='same', activation='relu'))(cnn_network)\n",
    "    cnn_network = TimeDistributed(BatchNormalization())(cnn_network)\n",
    "    cnn_network = TimeDistributed(MaxPool2D(pool_size=(2,2), padding='same', strides=(2,2)))(cnn_network)\n",
    "    \n",
    "    cnn_network = TimeDistributed(Conv2D(128, (3,3), padding='same', activation='relu'))(cnn_network)\n",
    "    cnn_network = TimeDistributed(Conv2D(128, (3,3), padding='same', activation='relu'))(cnn_network)\n",
    "    cnn_network = TimeDistributed(BatchNormalization())(cnn_network)\n",
    "    cnn_network = TimeDistributed(MaxPool2D(pool_size=(2,2), padding='same', strides=(2,2)))(cnn_network)\n",
    "    \n",
    "\n",
    "    cnn_network = TimeDistributed(Conv2D(256, (3,3), padding='same', activation='relu'))(cnn_network)\n",
    "    cnn_network = TimeDistributed(Conv2D(256, (3,3), padding='same', activation='relu'))(cnn_network)\n",
    "    cnn_network = TimeDistributed(BatchNormalization())(cnn_network)\n",
    "    cnn_network = TimeDistributed(MaxPool2D(pool_size=(2,2), padding='same', strides=(2,2)))(cnn_network)\n",
    "\n",
    "    cnn_network = TimeDistributed(Conv2D(256, (3,3), padding='same', activation='relu'))(cnn_network)\n",
    "    cnn_network = TimeDistributed(Conv2D(256, (3,3), padding='same', activation='relu'))(cnn_network)\n",
    "    cnn_network = TimeDistributed(BatchNormalization())(cnn_network)\n",
    "    cnn_network = TimeDistributed(MaxPool2D(pool_size=(2,2), padding='same', strides=(2,2)))(cnn_network)\n",
    "    \n",
    "    cnn_network = TimeDistributed(Flatten())(cnn_network)\n",
    "   \n",
    "    \n",
    "    lstm_network = LSTM(64, return_sequences=True, dropout=0.5, recurrent_dropout=0.5)(cnn_network)\n",
    "    lstm_network = Dense(256,activation='relu')(lstm_network)\n",
    "    lstm_network = Dropout(0.5)(lstm_network)\n",
    "    lstm_network = Dense(64,activation='relu')(lstm_network)\n",
    "    lstm_network = Dropout(0.5)(lstm_network)\n",
    "    lstm_network = Dense(16,activation='relu')(lstm_network)\n",
    "    lstm_network = Dropout(0.5)(lstm_network)\n",
    "    lstm_network = TimeDistributed(Dense(num_classes, activation='softmax'))(lstm_network)\n",
    "\n",
    "    \n",
    "    full_network = Model(input_batch, lstm_network)\n",
    "    return full_network\n"
   ]
  },
  {
   "cell_type": "code",
   "execution_count": null,
   "metadata": {
    "scrolled": false
   },
   "outputs": [],
   "source": [
    "model = my_model(10,448,448,3,2)\n",
    "model.compile(optimizer=Adam(learning_rate=1e-5),loss='categorical_crossentropy', metrics=['accuracy'])\n",
    "#model.summary()"
   ]
  },
  {
   "cell_type": "code",
   "execution_count": null,
   "metadata": {},
   "outputs": [],
   "source": [
    "batch_sizes = 5 \n",
    "num_epoch = 100\n",
    "step_size_train = len(X_train)//batch_sizes\n",
    "start_time = time.perf_counter()\n",
    "model_history = model.fit(x = X_train,\n",
    "                    y = Y_train, \n",
    "                    steps_per_epoch = step_size_train,\n",
    "                    epochs=num_epoch,\n",
    "                    validation_data = (X_valid, Y_valid),\n",
    "                    callbacks = [EarlyStopping(monitor = 'val_loss',\n",
    "                                               patience = 15,\n",
    "                                               verbose = 1)]\n",
    "                   )\n",
    "print(f'Time: {time.perf_counter()-start_time} sec')"
   ]
  },
  {
   "cell_type": "code",
   "execution_count": null,
   "metadata": {},
   "outputs": [],
   "source": [
    "training_loss = model_history.history['loss']\n",
    "val_loss = model_history.history['val_loss']\n",
    "\n",
    "plt.plot(training_loss, label=\"training_loss\")\n",
    "plt.plot(val_loss, label=\"validation_loss\")\n",
    "plt.xlabel(\"Epochs\")\n",
    "plt.ylabel(\"Loss\")\n",
    "plt.title(\"Learning Curve\")\n",
    "plt.legend(loc='best')\n",
    "plt.show()"
   ]
  },
  {
   "cell_type": "code",
   "execution_count": null,
   "metadata": {},
   "outputs": [],
   "source": [
    "plt.plot(model_history.history['accuracy'])\n",
    "plt.plot(model_history.history['val_accuracy'])\n",
    "plt.title('model accuracy')\n",
    "plt.ylabel('accuracy')\n",
    "plt.xlabel('epoch')\n",
    "plt.legend(['train', 'validation'], loc='upper left')\n",
    "plt.show()"
   ]
  },
  {
   "cell_type": "code",
   "execution_count": null,
   "metadata": {
    "scrolled": true
   },
   "outputs": [],
   "source": [
    "test_pred = model.evaluate(X_test, Y_test)\n",
    "print(\"test loss, test acc:\", test_pred)"
   ]
  },
  {
   "cell_type": "code",
   "execution_count": null,
   "metadata": {
    "scrolled": false
   },
   "outputs": [],
   "source": [
    "predictions = model.predict(X_test)\n",
    "print(\"predictions: \")\n",
    "print(predictions[6:10])\n",
    "print(\"answer : \")\n",
    "print(Y_test[6:10])"
   ]
  },
  {
   "cell_type": "code",
   "execution_count": null,
   "metadata": {},
   "outputs": [],
   "source": [
    "import sklearn.metrics\n",
    "\n",
    "print(f'ROC_AUC_Score: {sklearn.metrics.roc_auc_score(Y_test[:,:,1].reshape(-1), predictions[:,:,1].reshape(-1))}')\n",
    "print()\n",
    "fpr, tpr, _ = sklearn.metrics.roc_curve(Y_test[:,:,1].reshape(-1), predictions[:,:,1].reshape(-1))\n",
    "plt.plot(fpr, tpr)\n",
    "plt.title('ROC_Curve')\n",
    "plt.xlabel('False Positive Rate')\n",
    "plt.ylabel('True Positive Rate')\n",
    "plt.show()"
   ]
  },
  {
   "cell_type": "code",
   "execution_count": null,
   "metadata": {},
   "outputs": [],
   "source": [
    "predictions = predictions.reshape(150, -1).argmax(-1)\n",
    "print('Confusion Matrix: ')\n",
    "print(sklearn.metrics.confusion_matrix(Y_test.reshape(150,-1).argmax(-1), predictions, labels=[0,1]))\n",
    "print()\n",
    "print(f'Cohen_Kappa_Score: {sklearn.metrics.cohen_kappa_score(Y_test.reshape(150,-1).argmax(-1), predictions)}')"
   ]
  },
  {
   "cell_type": "code",
   "execution_count": null,
   "metadata": {},
   "outputs": [],
   "source": [
    "model.save(\"./Models/lstm_v1_30s_5_best.h5\")"
   ]
  }
 ],
 "metadata": {
  "kernelspec": {
   "display_name": "Python 3 (ipykernel)",
   "language": "python",
   "name": "python3"
  },
  "language_info": {
   "codemirror_mode": {
    "name": "ipython",
    "version": 3
   },
   "file_extension": ".py",
   "mimetype": "text/x-python",
   "name": "python",
   "nbconvert_exporter": "python",
   "pygments_lexer": "ipython3",
   "version": "3.10.6"
  }
 },
 "nbformat": 4,
 "nbformat_minor": 2
}
