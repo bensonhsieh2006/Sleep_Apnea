{
 "cells": [
  {
   "cell_type": "code",
   "execution_count": null,
   "metadata": {},
   "outputs": [],
   "source": [
    "import numpy as np\n",
    "import pandas as pd\n",
    "import matplotlib.pyplot as plt\n",
    "import os\n",
    "import cv2\n",
    "import time\n",
    "import sklearn\n",
    "from tqdm import tqdm\n",
    "from utils.train_preprocessing import my_processing\n",
    "\n",
    "from tensorflow.keras.layers import TimeDistributed, LSTM, Dense, Conv2D, MaxPool2D, Flatten, Dropout, Input, BatchNormalization\n",
    "from tensorflow.keras.optimizers import Adam\n",
    "from tensorflow.keras import Model"
   ]
  },
  {
   "cell_type": "code",
   "execution_count": null,
   "metadata": {},
   "outputs": [],
   "source": [
    "label_th = 0.1\n",
    "seg_time = 30\n",
    "data_folder = f'/NAS/Benson/Sleep_Apnea/Sleep_Codes/Code_with_data/CNN_LSTM/Model_Training/Data'\n",
    "info_csv = pd.read_csv(f'{data_folder}/label_{seg_time}s_{int(label_th*100)}.csv')\n",
    "train_data = []\n",
    "train_label = []\n",
    "ids = [\"00000711-100839\", \"00000781-100816\", \"00001096-100779\", \"00000782-100816\"]\n",
    "\n",
    "for x in range(len(info_csv[\"filename\"])):\n",
    "    image = cv2.imread(f'{data_folder}/Segments_{seg_time}s/{info_csv[\"filename\"][x]}.png')\n",
    "    image = cv2.cvtColor(image, cv2.COLOR_BGR2RGB)\n",
    "    train_data.append(image)\n",
    "    train_label.append(info_csv[\"label\"][x])\n",
    "        \n",
    "print(len(train_data))\n",
    "print(len(train_label))\n",
    "del info_csv"
   ]
  },
  {
   "cell_type": "code",
   "execution_count": null,
   "metadata": {},
   "outputs": [],
   "source": [
    "train_data = my_processing(dataset = train_data, outsize=448, pre_type=\"his\")\n",
    "#train_data, train_label = sklearn.utils.shuffle(train_data, train_label)"
   ]
  },
  {
   "cell_type": "code",
   "execution_count": null,
   "metadata": {},
   "outputs": [],
   "source": [
    "plt.figure(figsize=(20,10))\n",
    "for i in range(10):\n",
    "    ax = plt.subplot(2, 5, i+1)                                    \n",
    "    plt.title(\"class : \" + str(train_label[i]), \n",
    "               fontsize=18)                                        \n",
    "    plt.xticks([])                                                \n",
    "    ax.imshow(train_data[i])    "
   ]
  },
  {
   "cell_type": "code",
   "execution_count": null,
   "metadata": {},
   "outputs": [],
   "source": [
    "def my_model(timesteps, img_height, img_width, img_color_channels, num_classes):\n",
    "    \n",
    "    input_batch = Input(shape = (timesteps, img_height, img_width, img_color_channels))\n",
    "    \n",
    "    \n",
    "    cnn_network = TimeDistributed(Conv2D(4, (3,3), padding='same', activation='relu'))(input_batch)\n",
    "    cnn_network = TimeDistributed(Conv2D(4, (3,3), padding='same', activation='relu'))(cnn_network)\n",
    "    cnn_network = TimeDistributed(BatchNormalization())(cnn_network)\n",
    "    cnn_network = TimeDistributed(MaxPool2D(pool_size=(2,2), padding='same', strides=(4,4)))(cnn_network)\n",
    "    \n",
    "    cnn_network = TimeDistributed(Conv2D(8, (3,3), padding='same', activation='relu'))(cnn_network)\n",
    "    cnn_network = TimeDistributed(Conv2D(8, (3,3), padding='same', activation='relu'))(cnn_network)\n",
    "    cnn_network = TimeDistributed(BatchNormalization())(cnn_network)\n",
    "    cnn_network = TimeDistributed(MaxPool2D(pool_size=(2,2), padding='same', strides=(4,4)))(cnn_network)\n",
    "    \n",
    "    cnn_network = TimeDistributed(Conv2D(8, (3,3), padding='same', activation='relu'))(cnn_network)\n",
    "    cnn_network = TimeDistributed(Conv2D(8, (3,3), padding='same', activation='relu'))(cnn_network)\n",
    "    cnn_network = TimeDistributed(BatchNormalization())(cnn_network)\n",
    "    cnn_network = TimeDistributed(MaxPool2D(pool_size=(2,2), padding='same', strides=(4,4)))(cnn_network)\n",
    "    \n",
    "    cnn_network = TimeDistributed(Conv2D(16, (3,3), padding='same', activation='relu'))(cnn_network)\n",
    "    cnn_network = TimeDistributed(Conv2D(16, (3,3), padding='same', activation='relu'))(cnn_network)\n",
    "    cnn_network = TimeDistributed(BatchNormalization())(cnn_network)\n",
    "    cnn_network = TimeDistributed(MaxPool2D(pool_size=(2,2), padding='same', strides=(4,4)))(cnn_network)\n",
    "    \n",
    "    cnn_network = TimeDistributed(Flatten())(cnn_network)\n",
    "   \n",
    "    \n",
    "    lstm_network = LSTM(12, return_sequences=False, dropout=0.05, recurrent_dropout=0.05)(cnn_network)\n",
    "    lstm_network = Dense(4,activation='relu')(lstm_network)\n",
    "    lstm_network = Dropout(0.1)(lstm_network)\n",
    "    lstm_network = Dense(2,activation='relu')(lstm_network)\n",
    "    lstm_network = Dropout(0.1)(lstm_network)\n",
    "    lstm_network = Dense(num_classes, activation='softmax')(lstm_network)\n",
    "    \n",
    "    \n",
    "    full_network = Model(input_batch, lstm_network)\n",
    "    return full_network"
   ]
  },
  {
   "cell_type": "code",
   "execution_count": null,
   "metadata": {},
   "outputs": [],
   "source": [
    "model = my_model(timesteps = 10,\n",
    "                 img_height = 448,\n",
    "                 img_width = 448,\n",
    "                 img_color_channels = 3,\n",
    "                 num_classes = 2)\n",
    "#model.summary()"
   ]
  },
  {
   "cell_type": "code",
   "execution_count": null,
   "metadata": {},
   "outputs": [],
   "source": [
    "##training v1\n",
    "# from tensorflow.keras.callbacks import EarlyStopping\n",
    "\n",
    "# model.compile(optimizer=Adam(learning_rate=1e-5),\n",
    "#               loss='categorical_crossentropy', \n",
    "#               metrics=['accuracy'])\n",
    "\n",
    "\n",
    "# batch_sizes = 10\n",
    "# num_epoch = 1200\n",
    "# start_time = time.perf_counter()\n",
    "# model_history = model.fit(x = X_train,\n",
    "#                     y = Y_train, \n",
    "#                     batch_size = batch_sizes,\n",
    "#                     epochs = num_epoch,\n",
    "#                     validation_data = (X_valid, Y_valid),\n",
    "#                     validation_batch_size = batch_sizes,\n",
    "#                     callbacks = [EarlyStopping(monitor = 'val_loss',\n",
    "#                                                patience = 60,\n",
    "#                                                verbose = 1)]\n",
    "#                    )\n",
    "# print(f'Total time: {time.perf_counter() - start_time} sec')"
   ]
  },
  {
   "cell_type": "code",
   "execution_count": null,
   "metadata": {},
   "outputs": [],
   "source": [
    "##training v2\n",
    "def timestep_id_generator():\n",
    "    pass\n",
    "\n",
    "def train():\n",
    "    pass"
   ]
  },
  {
   "cell_type": "code",
   "execution_count": null,
   "metadata": {},
   "outputs": [],
   "source": [
    "def num():\n",
    "    for i in range(10):\n",
    "        yield i\n",
    "test = num()\n",
    "num_list = []\n",
    "for test_num in num():\n",
    "    num_list.append(test_num)\n",
    "print(num_list[0:6])\n",
    "new_list = [num_list[(n := next(test)):n+2] for _ in range(4)]\n",
    "print(new_list)"
   ]
  },
  {
   "cell_type": "code",
   "execution_count": null,
   "metadata": {},
   "outputs": [],
   "source": []
  },
  {
   "cell_type": "code",
   "execution_count": null,
   "metadata": {},
   "outputs": [],
   "source": [
    "training_loss = model_history.history['loss']\n",
    "val_loss = model_history.history['val_loss']\n",
    "\n",
    "plt.plot(training_loss, label=\"training_loss\")\n",
    "plt.plot(val_loss, label=\"validation_loss\")\n",
    "plt.xlabel(\"Epochs\")\n",
    "plt.ylabel(\"Loss\")\n",
    "plt.title(\"Learning Curve\")\n",
    "plt.legend(loc='best')\n",
    "plt.show()"
   ]
  },
  {
   "cell_type": "code",
   "execution_count": null,
   "metadata": {
    "scrolled": true
   },
   "outputs": [],
   "source": [
    "plt.plot(model_history.history['accuracy'])\n",
    "plt.plot(model_history.history['val_accuracy'])\n",
    "plt.title('model accuracy')\n",
    "plt.ylabel('accuracy')\n",
    "plt.xlabel('epoch')\n",
    "plt.legend(['train', 'validation'], loc='upper left')\n",
    "plt.show()"
   ]
  },
  {
   "cell_type": "code",
   "execution_count": null,
   "metadata": {},
   "outputs": [],
   "source": [
    "test_pred = model.evaluate(X_test, Y_test, batch_size=10)\n",
    "print(\"test loss, test acc:\", test_pred)"
   ]
  },
  {
   "cell_type": "code",
   "execution_count": null,
   "metadata": {},
   "outputs": [],
   "source": [
    "pred = model.predict(X_test, batch_size=10)\n",
    "print(\"predictions: \")\n",
    "print(pred)\n",
    "print(\"answer : \")\n",
    "print(Y_test)"
   ]
  },
  {
   "cell_type": "code",
   "execution_count": null,
   "metadata": {},
   "outputs": [],
   "source": [
    "print(f'ROC_AUC_Score: {sklearn.metrics.roc_auc_score(Y_test[:,1], pred[:,1])}')\n",
    "print()\n",
    "fpr, tpr, _ = sklearn.metrics.roc_curve(Y_test[:,1], pred[:,1])\n",
    "plt.plot(fpr, tpr)\n",
    "plt.title('ROC_Curve')\n",
    "plt.xlabel('False Positive Rate')\n",
    "plt.ylabel('True Positive Rate')\n",
    "plt.show()"
   ]
  },
  {
   "cell_type": "code",
   "execution_count": null,
   "metadata": {
    "scrolled": true
   },
   "outputs": [],
   "source": [
    "print('Confusion Matrix: ')\n",
    "print(sklearn.metrics.confusion_matrix(Y_test.argmax(-1), pred.argmax(-1)))\n",
    "print()\n",
    "print(f'Cohen_Kappa_Score: {sklearn.metrics.cohen_kappa_score(Y_test.argmax(-1), pred.argmax(-1))}')"
   ]
  },
  {
   "cell_type": "code",
   "execution_count": null,
   "metadata": {},
   "outputs": [],
   "source": [
    "# model.save(\"lstm.h5(1)\")"
   ]
  }
 ],
 "metadata": {
  "kernelspec": {
   "display_name": "Python 3 (ipykernel)",
   "language": "python",
   "name": "python3"
  },
  "language_info": {
   "codemirror_mode": {
    "name": "ipython",
    "version": 3
   },
   "file_extension": ".py",
   "mimetype": "text/x-python",
   "name": "python",
   "nbconvert_exporter": "python",
   "pygments_lexer": "ipython3",
   "version": "3.10.6"
  }
 },
 "nbformat": 4,
 "nbformat_minor": 2
}
