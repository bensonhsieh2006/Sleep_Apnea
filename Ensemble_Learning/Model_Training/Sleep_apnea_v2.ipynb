{
 "cells": [
  {
   "cell_type": "markdown",
   "metadata": {},
   "source": [
    "# Sleep Apena"
   ]
  },
  {
   "cell_type": "code",
   "execution_count": 1,
   "metadata": {},
   "outputs": [],
   "source": [
    "import os                           \n",
    "import numpy as np                   \n",
    "import pandas as pd                 \n",
    "import matplotlib.pyplot as plt      \n",
    "import cv2                           \n",
    "from tqdm import tqdm\n",
    "import time"
   ]
  },
  {
   "cell_type": "markdown",
   "metadata": {},
   "source": [
    "# 資料集載入、再觀察與處理"
   ]
  },
  {
   "cell_type": "code",
   "execution_count": 2,
   "metadata": {},
   "outputs": [],
   "source": [
    "train_csv = pd.read_csv(\"sleep_data_v2/train.csv\", index_col=False)\n",
    "test_csv = pd.read_csv(\"sleep_data_v2/test.csv\", index_col=False)\n",
    "\n",
    "train_data=[]\n",
    "test_data=[]\n",
    "train_labels=[]\n",
    "test_labels=[]\n",
    "\n",
    "sleep_type = {0:\"Normal\", 1:\"Sick\"}"
   ]
  },
  {
   "cell_type": "code",
   "execution_count": 3,
   "metadata": {},
   "outputs": [
    {
     "name": "stdout",
     "output_type": "stream",
     "text": [
      "Training samples: 134\n",
      "Testing samples: 20\n",
      "Training labels: 134\n",
      "Testing labels: 20\n"
     ]
    }
   ],
   "source": [
    "def get_train(spec_type, aug_type):\n",
    "    train_path = \"./sleep_data_v2/Training_Data/\"+spec_type+\"_Train_\" + aug_type # 指定訓練集的讀檔路徑\n",
    "    global train_data\n",
    "    for eachfile in train_csv[\"Number\"]:                              # 用 for 迴圈將檔案名稱一個個唱名\n",
    "        image = cv2.imread(os.path.join(train_path, eachfile+\".png\"))  # 被唱到名的檔案就會和訓練集路徑用 os.path.join 結合\n",
    "                                                                       # 用 cv2.imread 將檔案開啟\n",
    "        image = cv2.cvtColor(image, cv2.COLOR_BGR2RGB)                 # 由於 cv2 開檔讀進來的是 BGR 所以我們將其轉成 RGB\n",
    "        train_data.append(image)                                       # 將開啟的檔案放到 train_data 中\n",
    "        \n",
    "        \n",
    "def get_test(spec_type, aug_type):\n",
    "    test_path = \"./sleep_data_v2/Training_Data/\"+spec_type+\"_Test_\"+aug_type\n",
    "    global test_data\n",
    "    for eachfile in test_csv[\"Number\"]:\n",
    "        image = cv2.imread(os.path.join(test_path, eachfile+\".png\"))    \n",
    "        #print(eachfile)\n",
    "        image = cv2.cvtColor(image, cv2.COLOR_BGR2RGB)\n",
    "        test_data.append(image)\n",
    "        \n",
    "        \n",
    "spec_type = 'Mel'\n",
    "aug_type = ['None']\n",
    "for x in aug_type:\n",
    "    get_train(spec_type, x)\n",
    "    get_test(spec_type, x)\n",
    "    train_labels = np.concatenate((train_labels, train_csv['Label'].values), axis=None).astype(np.int8)\n",
    "    test_labels = np.concatenate((test_labels, test_csv['Label'].values), axis=None).astype(np.int8)\n",
    "print(f'Training samples: {len(train_data)}')\n",
    "print(f'Testing samples: {len(test_data)}')\n",
    "print(f'Training labels: {len(train_labels)}')\n",
    "print(f'Testing labels: {len(test_labels)}')"
   ]
  },
  {
   "cell_type": "code",
   "execution_count": 4,
   "metadata": {},
   "outputs": [],
   "source": [
    "# plt.figure(figsize=(25,30))                                        # 避免圖畫太小，用 figsize 來調控一下大小\n",
    "# for i in range(10):\n",
    "#     ax = plt.subplot(6, 5, i+1)                                    # 依序呼叫每個畫圖位置 \n",
    "#     plt.title(\"class : \"+str(train_labels[i] )+\", \"+str(sleep_type[train_labels[i]]), \n",
    "#                fontsize=18)                                        # 宣告每張圖的 title，此處放入對應類別\n",
    "#     plt.xticks([])                                                 # 避免出現不必要邊框，所以宣告 x 軸上不用貼刻度\n",
    "#     plt.yticks([])\n",
    "#     ax.set_xlabel(train_data[i].shape,fontsize=18) \n",
    "#     ax.imshow(train_data[i])                                       # 將指定的影像放入呼叫的畫圖位置"
   ]
  },
  {
   "cell_type": "code",
   "execution_count": 5,
   "metadata": {},
   "outputs": [
    {
     "name": "stderr",
     "output_type": "stream",
     "text": [
      "100%|██████████| 134/134 [00:00<00:00, 371.20it/s]\n",
      "100%|██████████| 20/20 [00:00<00:00, 337.05it/s]"
     ]
    },
    {
     "name": "stdout",
     "output_type": "stream",
     "text": [
      "(480, 640, 3)\n",
      "(456, 456, 3)\n"
     ]
    },
    {
     "name": "stderr",
     "output_type": "stream",
     "text": [
      "\n"
     ]
    }
   ],
   "source": [
    "from utils.image_processing_v2 import my_processing\n",
    "# my_processing(\n",
    "#                  dataset,     # 放入開完檔案的影像進此函述做前處理 \n",
    "#                  outsize,     # output 時的 image size\n",
    "#                  pre_type     # 希望做什麼樣的特徵強化，共有[\"ori\", \"his\", \"cla\", \"gau\"]四種可以填入\n",
    "#                  )\n",
    "\n",
    "pre_train = my_processing(dataset = train_data, outsize=456, pre_type=\"his\")\n",
    "pre_test  = my_processing(dataset = test_data, outsize=456, pre_type=\"his\")\n",
    "\n",
    "# outsize 設定 456 是為了放入底下模型所指定的 size\n",
    "print(train_data[0].shape)\n",
    "print(pre_train[0].shape)\n",
    "del train_data\n",
    "del test_data"
   ]
  },
  {
   "cell_type": "code",
   "execution_count": 6,
   "metadata": {},
   "outputs": [],
   "source": [
    "# plt.figure(figsize=(25,30))                                        # 避免圖畫太小，用 figsize 來調控一下大小\n",
    "# for i in range(10):\n",
    "#     ax = plt.subplot(6, 5, i+1)                                    # 依序呼叫每個畫圖位置\n",
    "#     plt.title(\"class : \"+str(train_labels[i] )+\", \"+str(sleep_type[train_labels[i]]), \n",
    "#                fontsize=18)                                        # 宣告每張圖的 title，此處放入對應類別\n",
    "#     plt.xticks([])                                                 # 避免出現不必要邊框，所以宣告 x 軸上不用貼刻度\n",
    "#     plt.yticks([])\n",
    "#     ax.set_xlabel(pre_train[i].shape, fontsize=18)\n",
    "#     ax.imshow(pre_train[i])                                       # 將指定的影像放入呼叫的畫圖位置"
   ]
  },
  {
   "cell_type": "code",
   "execution_count": 7,
   "metadata": {},
   "outputs": [],
   "source": [
    "### Train_Test_Split\n",
    "\n",
    "from sklearn.model_selection import train_test_split\n",
    "X_train, X_valid, Y_train, Y_valid = train_test_split( pre_train, \n",
    "                                                       train_labels,\n",
    "                                                       test_size=0.1, \n",
    "                                                       random_state=10,\n",
    "                                                       stratify= train_labels)\n",
    "del pre_train\n",
    "del train_labels"
   ]
  },
  {
   "cell_type": "code",
   "execution_count": 8,
   "metadata": {},
   "outputs": [
    {
     "name": "stderr",
     "output_type": "stream",
     "text": [
      "Using TensorFlow backend.\n"
     ]
    }
   ],
   "source": [
    "from keras.preprocessing.image import ImageDataGenerator\n",
    "from keras.models import Sequential, Model, load_model\n",
    "from keras.layers import (Input, Dense, GlobalAveragePooling2D)\n",
    "from keras.optimizers import SGD, Adam"
   ]
  },
  {
   "cell_type": "markdown",
   "metadata": {},
   "source": [
    "### Imbalance Data"
   ]
  },
  {
   "cell_type": "code",
   "execution_count": 9,
   "metadata": {},
   "outputs": [
    {
     "data": {
      "text/plain": [
       "{0: 3.5294117647058822, 1: 0.5825242718446602}"
      ]
     },
     "execution_count": 9,
     "metadata": {},
     "output_type": "execute_result"
    }
   ],
   "source": [
    "from sklearn.utils import class_weight\n",
    "classweight = class_weight.compute_class_weight('balanced', np.unique(Y_train), Y_train)\n",
    "classweights = { 0: classweight[0], 1: classweight[1] }\n",
    "classweights"
   ]
  },
  {
   "cell_type": "markdown",
   "metadata": {},
   "source": [
    "對類別取一個比例，依照比例去增加其對應的資料之資料量，一般我們直接以複製資料做為增加的方式 (此例中我們選此法)<br>\n",
    "![Imgur](https://i.imgur.com/LbxlfS3.jpg?1)"
   ]
  },
  {
   "cell_type": "code",
   "execution_count": 10,
   "metadata": {},
   "outputs": [],
   "source": [
    "# X_train_prod = X_train.copy()\n",
    "# Y_train_prod = Y_train.copy()\n",
    "\n",
    "# # 不同 label 補不同倍數的值\n",
    "# task = {0:9,1:2}\n",
    "# for i in range(2):\n",
    "#     tmp_x = X_train[Y_train==task[i]].copy()\n",
    "#     tmp_y = Y_train[Y_train==task[i]].copy()\n",
    "#     for j in range(task[i]):\n",
    "#         X_train_prod = np.concatenate([X_train_prod, tmp_x])\n",
    "#         Y_train_prod = np.concatenate([Y_train_prod, tmp_y])"
   ]
  },
  {
   "cell_type": "code",
   "execution_count": 11,
   "metadata": {},
   "outputs": [],
   "source": [
    "# print(X_train_prod.shape)\n",
    "# print(Y_train_prod.shape)"
   ]
  },
  {
   "cell_type": "markdown",
   "metadata": {},
   "source": [
    "### Data Augmentation  資料增強"
   ]
  },
  {
   "cell_type": "code",
   "execution_count": 12,
   "metadata": {},
   "outputs": [],
   "source": [
    "datagen = ImageDataGenerator(\n",
    "                                width_shift_range = 0.0,     # 水平平移\n",
    "                                height_shift_range = 0.0,    # 垂直平移\n",
    "                                rotation_range = 0,        # 0-180 任一角度旋轉\n",
    "                                horizontal_flip = True,      # 任意水平翻轉\n",
    "                                vertical_flip = True,        # 任意垂直翻轉\n",
    "                                fill_mode = \"constant\",      # 在旋轉或平移時，有空隙發生，則空隙補常數\n",
    "                                cval = 0                     # 設定常數值為 0\n",
    "                             )"
   ]
  },
  {
   "cell_type": "code",
   "execution_count": 13,
   "metadata": {},
   "outputs": [],
   "source": [
    "def load_base_model():\n",
    "    global X_train\n",
    "    global X_valid\n",
    "    global pre_test\n",
    "    base_model = int(input(\"\"\"Choose a base model\n",
    "1. EfficientNetB5\n",
    "2. DenseNet201\n",
    "3. InceptionV3\n",
    "4. ResNet50\n",
    "5. VGG16\n",
    "\"\"\"))\n",
    "    \n",
    "    if base_model==1:\n",
    "        #from efficientnet import EfficientNetB5, preprocess_input\n",
    "        #from efficientnet.keras import EfficientNetB5, preprocess_input\n",
    "        from keras_efficientnets import EfficientNetB5, preprocess_input\n",
    "        return EfficientNetB5(weights='imagenet',include_top=False)\n",
    "    \n",
    "    elif base_model==2:\n",
    "        from keras.applications.densenet import DenseNet201, preprocess_input\n",
    "        return DenseNet201(weights='imagenet',include_top=False)\n",
    "    \n",
    "    elif base_model==3:\n",
    "        from keras.applications.inception_v3 import InceptionV3, preprocess_input\n",
    "        return InceptionV3(weights='imagenet',include_top=False)\n",
    "        \n",
    "    elif base_model==4:\n",
    "        from keras.applications import ResNet50\n",
    "        from keras.applications.resnet50 import preprocess_input\n",
    "        return ResNet50(weights='imagenet',include_top=False)\n",
    "    \n",
    "    elif base_model==5:\n",
    "        from keras.applications import VGG16\n",
    "        from keras.applications.vgg16 import preprocess_input\n",
    "        return VGG16(weights='imagenet',include_top=False)\n",
    "    else:\n",
    "        raise ValueError(\"Wrong value\")\n",
    "        \n",
    "    X_train = np.array([preprocess_input(image) for image in X_train])\n",
    "    X_valid = np.array([preprocess_input(image) for image in X_valid])\n",
    "    pre_test = np.array([preprocess_input(image) for image in pre_test])"
   ]
  },
  {
   "cell_type": "code",
   "execution_count": 14,
   "metadata": {},
   "outputs": [
    {
     "name": "stdout",
     "output_type": "stream",
     "text": [
      "Choose a base model\n",
      "1. EfficientNetB5\n",
      "2. DenseNet201\n",
      "3. InceptionV3\n",
      "4. ResNet50\n",
      "5. VGG16\n",
      "1\n",
      "WARNING:tensorflow:From /home/why/anaconda3/envs/py37-tensor2-kera231-20191113/lib/python3.7/site-packages/tensorflow_core/python/ops/resource_variable_ops.py:1630: calling BaseResourceVariable.__init__ (from tensorflow.python.ops.resource_variable_ops) with constraint is deprecated and will be removed in a future version.\n",
      "Instructions for updating:\n",
      "If using Keras pass *_constraint arguments to layers.\n"
     ]
    }
   ],
   "source": [
    "base_model = load_base_model()\n",
    "pool = GlobalAveragePooling2D()(base_model.output) \n",
    "output = Dense(2, activation='softmax')(pool)\n",
    "model = Model(inputs = base_model.input, outputs = output)\n",
    "\n",
    "\n",
    "base_model.trainable = False\n",
    "learning_rate = 1e-4\n",
    "model.compile(optimizer=Adam(lr=learning_rate), loss='categorical_crossentropy', metrics=['accuracy'])"
   ]
  },
  {
   "cell_type": "code",
   "execution_count": 15,
   "metadata": {},
   "outputs": [],
   "source": [
    "#from keras.utils import plot_model\n",
    "#plot_model(base_model, to_file='./outputs/EfficientNetB5_model.png')    # 畫畫模型圖"
   ]
  },
  {
   "cell_type": "markdown",
   "metadata": {},
   "source": [
    "### 開始訓練"
   ]
  },
  {
   "cell_type": "code",
   "execution_count": 16,
   "metadata": {
    "scrolled": false
   },
   "outputs": [
    {
     "name": "stdout",
     "output_type": "stream",
     "text": [
      "Epoch 1/15\n",
      "60/60 [==============================] - 183s 3s/step - loss: 0.7515 - accuracy: 0.6250 - val_loss: 0.8150 - val_accuracy: 0.2143\n",
      "Epoch 2/15\n",
      "60/60 [==============================] - 153s 3s/step - loss: 0.6303 - accuracy: 0.6000 - val_loss: 0.7038 - val_accuracy: 0.3571\n",
      "Epoch 3/15\n",
      "60/60 [==============================] - 152s 3s/step - loss: 0.4650 - accuracy: 0.7417 - val_loss: 0.6000 - val_accuracy: 0.7143\n",
      "Epoch 4/15\n",
      "60/60 [==============================] - 152s 3s/step - loss: 0.6116 - accuracy: 0.7333 - val_loss: 0.6156 - val_accuracy: 0.5714\n",
      "Epoch 5/15\n",
      "60/60 [==============================] - 151s 3s/step - loss: 0.4205 - accuracy: 0.7583 - val_loss: 0.7339 - val_accuracy: 0.5000\n",
      "Epoch 6/15\n",
      "60/60 [==============================] - 151s 3s/step - loss: 0.3830 - accuracy: 0.8083 - val_loss: 0.5508 - val_accuracy: 0.7857\n",
      "Epoch 7/15\n",
      "60/60 [==============================] - 151s 3s/step - loss: 0.4358 - accuracy: 0.7250 - val_loss: 0.8790 - val_accuracy: 0.4286\n",
      "Epoch 8/15\n",
      "60/60 [==============================] - 151s 3s/step - loss: 0.2770 - accuracy: 0.8417 - val_loss: 0.5967 - val_accuracy: 0.7143\n",
      "Epoch 9/15\n",
      "60/60 [==============================] - 151s 3s/step - loss: 0.2680 - accuracy: 0.9250 - val_loss: 0.4047 - val_accuracy: 0.8571\n",
      "Epoch 10/15\n",
      "60/60 [==============================] - 151s 3s/step - loss: 0.4196 - accuracy: 0.8917 - val_loss: 0.5966 - val_accuracy: 0.6429\n",
      "Epoch 11/15\n",
      "60/60 [==============================] - 150s 3s/step - loss: 0.3499 - accuracy: 0.9083 - val_loss: 1.0125 - val_accuracy: 0.4286\n",
      "Epoch 12/15\n",
      "60/60 [==============================] - 151s 3s/step - loss: 0.4094 - accuracy: 0.8750 - val_loss: 0.5140 - val_accuracy: 0.7857\n",
      "Epoch 13/15\n",
      "60/60 [==============================] - 150s 2s/step - loss: 0.3397 - accuracy: 0.9083 - val_loss: 0.7255 - val_accuracy: 0.5714\n",
      "Epoch 14/15\n",
      "60/60 [==============================] - 151s 3s/step - loss: 0.1890 - accuracy: 0.9750 - val_loss: 0.6726 - val_accuracy: 0.6429\n",
      "Epoch 15/15\n",
      "60/60 [==============================] - 151s 3s/step - loss: 0.1365 - accuracy: 0.9667 - val_loss: 1.4693 - val_accuracy: 0.5000\n",
      "Time passed: 2325.918640914373 seconds\n"
     ]
    }
   ],
   "source": [
    "batch_sizes = 2\n",
    "num_epoch=15\n",
    "step_size_train = len(X_train)//batch_sizes\n",
    "\n",
    "start_time = time.perf_counter()\n",
    "model_history = model.fit_generator(\n",
    "                                    datagen.flow(X_train, np.eye(2)[Y_train], batch_size=batch_sizes),\n",
    "                                    steps_per_epoch = step_size_train,\n",
    "                                    validation_data = (X_valid, np.eye(2)[Y_valid]),\n",
    "                                    class_weight = classweights,\n",
    "                                    epochs=num_epoch, verbose=1,\n",
    "                                    )\n",
    "end_time = time.perf_counter()\n",
    "print(f'Time passed: {end_time-start_time} seconds')"
   ]
  },
  {
   "cell_type": "markdown",
   "metadata": {},
   "source": [
    "### 繪出訓練結果"
   ]
  },
  {
   "cell_type": "code",
   "execution_count": 17,
   "metadata": {},
   "outputs": [
    {
     "data": {
      "image/png": "[encoded data removed]",
      "text/plain": [
       "<Figure size 432x288 with 1 Axes>"
      ]
     },
     "metadata": {
      "needs_background": "light"
     },
     "output_type": "display_data"
    }
   ],
   "source": [
    "training_loss = model_history.history['loss']\n",
    "val_loss = model_history.history['val_loss']\n",
    "\n",
    "plt.plot(training_loss, label=\"training_loss\")\n",
    "plt.plot(val_loss, label=\"validation_loss\")\n",
    "plt.xlabel(\"Epochs\")\n",
    "plt.ylabel(\"Loss\")\n",
    "plt.title(\"Learning Curve\")\n",
    "plt.legend(loc='best')\n",
    "plt.show()"
   ]
  },
  {
   "cell_type": "code",
   "execution_count": 18,
   "metadata": {},
   "outputs": [],
   "source": [
    "#model.save(\"./saved_models/EfficientNetB5_model.h5\")"
   ]
  },
  {
   "cell_type": "markdown",
   "metadata": {},
   "source": [
    "# 用測試集評估成效"
   ]
  },
  {
   "cell_type": "code",
   "execution_count": 19,
   "metadata": {},
   "outputs": [
    {
     "name": "stdout",
     "output_type": "stream",
     "text": [
      "20/20 [==============================] - 6s 293ms/step\n",
      "test loss, test acc: [0.35544484853744507, 0.8500000238418579]\n",
      "\n",
      "[[9.9943739e-01 5.6259136e-04]\n",
      " [4.0944859e-02 9.5905513e-01]\n",
      " [1.2161048e-02 9.8783898e-01]\n",
      " [9.9884295e-01 1.1570089e-03]\n",
      " [5.7238989e-02 9.4276100e-01]\n",
      " [7.2675103e-01 2.7324897e-01]\n",
      " [6.4664893e-02 9.3533510e-01]\n",
      " [4.6175659e-02 9.5382440e-01]\n",
      " [9.9348193e-01 6.5179924e-03]\n",
      " [8.8052475e-01 1.1947527e-01]\n",
      " [9.0322047e-01 9.6779525e-02]\n",
      " [2.3530534e-02 9.7646946e-01]\n",
      " [9.4504431e-03 9.9054962e-01]\n",
      " [4.1037414e-02 9.5896262e-01]\n",
      " [1.9096372e-01 8.0903625e-01]\n",
      " [1.3382117e-02 9.8661786e-01]\n",
      " [2.5582159e-01 7.4417841e-01]\n",
      " [3.0938944e-01 6.9061053e-01]\n",
      " [9.7305262e-01 2.6947346e-02]\n",
      " [1.1540274e-01 8.8459724e-01]]\n",
      "\n",
      "[0 1 1 0 1 0 1 1 0 0 0 1 1 1 1 1 1 1 0 1]\n",
      "[0 1 1 0 1 1 1 1 0 1 1 1 1 1 1 1 1 1 0 1]\n"
     ]
    }
   ],
   "source": [
    "results = model.evaluate(pre_test, np.eye(2)[test_labels])\n",
    "print(f'test loss, test acc: {results}')\n",
    "print()\n",
    "\n",
    "pred = model.predict(pre_test)\n",
    "print(pred)\n",
    "print()\n",
    "\n",
    "pred = pred.argmax(-1)\n",
    "print(pred)\n",
    "print(test_labels)"
   ]
  },
  {
   "cell_type": "code",
   "execution_count": 20,
   "metadata": {},
   "outputs": [
    {
     "name": "stdout",
     "output_type": "stream",
     "text": [
      "Accuracy Score: 0.85\n",
      "Confusion Matrix: \n",
      "[[ 4  0]\n",
      " [ 3 13]]\n",
      "Cohen Kappa Score: 0.6341463414634145\n"
     ]
    }
   ],
   "source": [
    "from sklearn.metrics import accuracy_score, confusion_matrix, cohen_kappa_score\n",
    "print(f'Accuracy Score: {accuracy_score(test_labels, pred)}')                          \n",
    "print(f'Confusion Matrix: ')\n",
    "print(confusion_matrix(test_labels, pred))\n",
    "print(f'Cohen Kappa Score: {cohen_kappa_score(test_labels, pred)}')"
   ]
  },
  {
   "cell_type": "code",
   "execution_count": 21,
   "metadata": {},
   "outputs": [],
   "source": [
    "# test_csv.loc[:,\"Label\"] = pred\n",
    "# test_csv.to_csv(\"./outputs/sleep_apnea_EfficientNetB5_predict_20220819.csv\", index=False)"
   ]
  }
 ],
 "metadata": {
  "kernelspec": {
   "display_name": "Python 3",
   "language": "python",
   "name": "python3"
  },
  "language_info": {
   "codemirror_mode": {
    "name": "ipython",
    "version": 3
   },
   "file_extension": ".py",
   "mimetype": "text/x-python",
   "name": "python",
   "nbconvert_exporter": "python",
   "pygments_lexer": "ipython3",
   "version": "3.7.5"
  }
 },
 "nbformat": 4,
 "nbformat_minor": 2
}
