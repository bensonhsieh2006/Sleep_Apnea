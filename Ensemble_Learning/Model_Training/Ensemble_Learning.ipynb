{
 "cells": [
  {
   "cell_type": "code",
   "execution_count": 1,
   "metadata": {},
   "outputs": [],
   "source": [
    "import pandas as pd\n",
    "from sklearn.metrics import accuracy_score, confusion_matrix, cohen_kappa_score"
   ]
  },
  {
   "cell_type": "code",
   "execution_count": 2,
   "metadata": {},
   "outputs": [],
   "source": [
    "def ensemble_learn(pred_list, weights):\n",
    "\n",
    "    ens_pred_list=[]\n",
    "\n",
    "    for x in range(len(pred_list[0])):\n",
    "\n",
    "        pred = 0\n",
    "\n",
    "        for y in range(5):\n",
    "            pred+=pred_list[y][x]*weights[y]\n",
    "\n",
    "        ens_pred_list.append(pred)\n",
    "\n",
    "    return ens_pred_list"
   ]
  },
  {
   "cell_type": "code",
   "execution_count": 3,
   "metadata": {},
   "outputs": [],
   "source": [
    "def thres(pred_list, threshold):\n",
    "\n",
    "    for x in range(len(pred_list)):\n",
    "\n",
    "        if pred_list[x]>=threshold:\n",
    "            pred_list[x]=1\n",
    "\n",
    "        else:\n",
    "            pred_list[x]=0\n",
    "            \n",
    "    return pred_list"
   ]
  },
  {
   "cell_type": "code",
   "execution_count": 4,
   "metadata": {},
   "outputs": [],
   "source": [
    "def weight(acc_dict):\n",
    "\n",
    "    weights={}\n",
    "    sum = 0\n",
    "\n",
    "    for x in range(5):\n",
    "        sum+=acc_dict[x]\n",
    "\n",
    "    for x in range(5):\n",
    "        weights[x]=acc_dict[x]/sum\n",
    "\n",
    "    return weights"
   ]
  },
  {
   "cell_type": "code",
   "execution_count": 5,
   "metadata": {},
   "outputs": [],
   "source": [
    "train_acc_dict = {0:0.8999999761581421,1:0.800000011920929,2:0.8500000238418579,3:0.800000011920929,4:0.8999999761581421}\n",
    "#weights = {0:0.3,1:0.25,2:0.2,3:0.15,4:0.1}\n",
    "weights = weight(train_acc_dict)\n",
    "\n",
    "pred_list = []\n",
    "stan_path = r'sleep_data_v2/test.csv'\n",
    "stan_list = list(pd.read_csv(stan_path)[\"Label\"])\n",
    "\n",
    "thre=0.5"
   ]
  },
  {
   "cell_type": "code",
   "execution_count": 6,
   "metadata": {},
   "outputs": [],
   "source": [
    "eff_pre = pd.read_csv('./outputs/sleep_apnea_EfficientNetB5_predict.csv')\n",
    "pred_list.append([x for x in eff_pre['Label']]) \n",
    "\n",
    "den_pre = pd.read_csv('./outputs/sleep_apnea_DenseNet201_predict.csv')\n",
    "pred_list.append([x for x in den_pre['Label']]) \n",
    "\n",
    "inc_pre = pd.read_csv('./outputs/sleep_apnea_InceptionV3_predict.csv')\n",
    "pred_list.append([x for x in inc_pre['Label']])\n",
    "\n",
    "vgg_pre = pd.read_csv('./outputs/sleep_apnea_VGG16_predict.csv')\n",
    "pred_list.append([x for x in vgg_pre['Label']]) \n",
    "\n",
    "res_pre = pd.read_csv('./outputs/sleep_apnea_ResNet50_predict.csv')\n",
    "pred_list.append([x for x in res_pre['Label']]) "
   ]
  },
  {
   "cell_type": "code",
   "execution_count": 7,
   "metadata": {},
   "outputs": [],
   "source": [
    "ens_pred_list = ensemble_learn(pred_list, weights)\n",
    "ens_pred_list = thres(ens_pred_list, thre)"
   ]
  },
  {
   "cell_type": "code",
   "execution_count": 8,
   "metadata": {},
   "outputs": [
    {
     "name": "stdout",
     "output_type": "stream",
     "text": [
      "\n",
      "Threshold: 0.5\n",
      "\n",
      "Prediction: [0, 1, 1, 1, 1, 1, 1, 1, 0, 1, 1, 1, 1, 1, 1, 1, 1, 1, 1, 1]\n",
      "Answer:     [0, 1, 1, 0, 1, 1, 1, 1, 0, 1, 1, 1, 1, 1, 1, 1, 1, 1, 0, 1]\n",
      "\n",
      "Accuracy: 0.9\n",
      "\n",
      "Confusion Matrix: \n",
      "[[ 2  2]\n",
      " [ 0 16]]\n",
      "\n",
      "Cohen Kappa Score: 0.6153846153846154\n",
      "\n"
     ]
    }
   ],
   "source": [
    "print()\n",
    "print(f'Threshold: {thre}')\n",
    "print()\n",
    "print(f'Prediction: {ens_pred_list}')\n",
    "print(f'Answer:     {stan_list}')\n",
    "print()\n",
    "print(f'Accuracy: {accuracy_score(stan_list, ens_pred_list)}')\n",
    "print()\n",
    "print('Confusion Matrix: ')\n",
    "print(confusion_matrix(stan_list, ens_pred_list))\n",
    "print()\n",
    "print(f'Cohen Kappa Score: {cohen_kappa_score(stan_list, ens_pred_list)}')\n",
    "print()"
   ]
  }
 ],
 "metadata": {
  "kernelspec": {
   "display_name": "Python 3",
   "language": "python",
   "name": "python3"
  },
  "language_info": {
   "codemirror_mode": {
    "name": "ipython",
    "version": 3
   },
   "file_extension": ".py",
   "mimetype": "text/x-python",
   "name": "python",
   "nbconvert_exporter": "python",
   "pygments_lexer": "ipython3",
   "version": "3.7.5"
  }
 },
 "nbformat": 4,
 "nbformat_minor": 2
}
